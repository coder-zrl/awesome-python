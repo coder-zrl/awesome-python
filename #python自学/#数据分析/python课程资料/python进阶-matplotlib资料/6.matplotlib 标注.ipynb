{
 "cells": [
  {
   "cell_type": "markdown",
   "metadata": {},
   "source": [
    "微信公众号：深度学习与神经网络  \n",
    "Github：https://github.com/Qinbf  \n",
    "优酷频道：http://i.youku.com/sdxxqbf  "
   ]
  },
  {
   "cell_type": "code",
   "execution_count": 1,
   "metadata": {
    "collapsed": true
   },
   "outputs": [],
   "source": [
    "import matplotlib.pyplot as plt\n",
    "import numpy as np"
   ]
  },
  {
   "cell_type": "code",
   "execution_count": 14,
   "metadata": {
    "collapsed": false
   },
   "outputs": [
    {
     "data": {
      "image/png": "[encoded data removed]",
      "text/plain": [
       "<matplotlib.figure.Figure at 0x1990454e5f8>"
      ]
     },
     "metadata": {},
     "output_type": "display_data"
    }
   ],
   "source": [
    "x = np.linspace(-1,1,100)\n",
    "y1 = 2*x + 1\n",
    "\n",
    "plt.plot(x,y1,color='red',linewidth=1.0,linestyle='-')\n",
    "\n",
    "#gca get current axis\n",
    "ax = plt.gca()\n",
    "#把右边和上边的边框去掉\n",
    "ax.spines['right'].set_color('none')\n",
    "ax.spines['top'].set_color('none')\n",
    "#把x轴的刻度设置为‘bottom’\n",
    "#把y轴的刻度设置为‘left’\n",
    "ax.xaxis.set_ticks_position('bottom')\n",
    "ax.yaxis.set_ticks_position('left')\n",
    "#设置bottom对应到0点\n",
    "#设置left对应到0点\n",
    "ax.spines['bottom'].set_position(('data',0))\n",
    "ax.spines['left'].set_position(('data',0))\n",
    "\n",
    "x0 = 0.5\n",
    "y0 = 2*x0 + 1\n",
    "#画点\n",
    "plt.scatter(x0,y0,s=50,color='b')\n",
    "#画虚线\n",
    "plt.plot([x0,x0],[y0,0],'k--',lw=2)\n",
    "\n",
    "plt.annotate(r'$2x+1=%s$' % y0,xy=(x0,y0),xytext=(+30,-30),textcoords='offset points',fontsize=16,\n",
    "             arrowprops=dict(arrowstyle='->',connectionstyle='arc3,rad=.2'))\n",
    "\n",
    "plt.text(-1,2,r'$this\\ is\\ the\\ text$',fontdict={'size':'16','color':'r'})\n",
    "\n",
    "plt.show()"
   ]
  },
  {
   "cell_type": "code",
   "execution_count": null,
   "metadata": {
    "collapsed": true
   },
   "outputs": [],
   "source": []
  }
 ],
 "metadata": {
  "anaconda-cloud": {},
  "kernelspec": {
   "display_name": "Python [default]",
   "language": "python",
   "name": "python3"
  },
  "language_info": {
   "codemirror_mode": {
    "name": "ipython",
    "version": 3
   },
   "file_extension": ".py",
   "mimetype": "text/x-python",
   "name": "python",
   "nbconvert_exporter": "python",
   "pygments_lexer": "ipython3",
   "version": "3.5.2"
  }
 },
 "nbformat": 4,
 "nbformat_minor": 1
}
