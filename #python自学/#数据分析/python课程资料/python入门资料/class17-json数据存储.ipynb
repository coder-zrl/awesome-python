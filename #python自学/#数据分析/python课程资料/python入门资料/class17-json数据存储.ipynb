{
 "cells": [
  {
   "cell_type": "markdown",
   "metadata": {},
   "source": [
    "微信公众号：深度学习与神经网络  \n",
    "Github：https://github.com/Qinbf  \n",
    "优酷频道：http://i.youku.com/sdxxqbf  "
   ]
  },
  {
   "cell_type": "code",
   "execution_count": 1,
   "metadata": {
    "collapsed": true
   },
   "outputs": [],
   "source": [
    "import json\n",
    "\n",
    "a_dict = {'user_id':'qbf','user_name':'hello',100:200}\n",
    "\n",
    "with open('example.json','w') as f:\n",
    "    json.dump(a_dict,f)"
   ]
  },
  {
   "cell_type": "code",
   "execution_count": 2,
   "metadata": {
    "collapsed": false
   },
   "outputs": [
    {
     "name": "stdout",
     "output_type": "stream",
     "text": [
      "{'user_name': 'hello', 'user_id': 'qbf', '100': 200}\n"
     ]
    }
   ],
   "source": [
    "with open('example.json') as f:\n",
    "    content = json.load(f)\n",
    "    print(content)"
   ]
  },
  {
   "cell_type": "code",
   "execution_count": null,
   "metadata": {
    "collapsed": true
   },
   "outputs": [],
   "source": []
  }
 ],
 "metadata": {
  "anaconda-cloud": {},
  "kernelspec": {
   "display_name": "Python [default]",
   "language": "python",
   "name": "python3"
  },
  "language_info": {
   "codemirror_mode": {
    "name": "ipython",
    "version": 3
   },
   "file_extension": ".py",
   "mimetype": "text/x-python",
   "name": "python",
   "nbconvert_exporter": "python",
   "pygments_lexer": "ipython3",
   "version": "3.5.2"
  }
 },
 "nbformat": 4,
 "nbformat_minor": 1
}
